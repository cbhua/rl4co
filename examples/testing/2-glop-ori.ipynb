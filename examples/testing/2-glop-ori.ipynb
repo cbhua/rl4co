{
 "cells": [
  {
   "cell_type": "code",
   "execution_count": 4,
   "metadata": {},
   "outputs": [],
   "source": [
    "from rich.traceback import install; install()\n",
    "%load_ext autoreload\n",
    "%autoreload 2\n",
    "\n",
    "import sys; sys.path.append(2*\"../\"); sys.path.append(\"../../GLOP\")\n",
    "\n",
    "import torch\n",
    "\n",
    "from rl4co.envs import TSPEnv, CVRPEnv, SHPPEnv\n",
    "from rl4co.models.zoo import (\n",
    "    AttentionModel,\n",
    "    AttentionModelPolicy,\n",
    "    GLOPOriPolicy,\n",
    "    GLOPOri,\n",
    ")\n",
    "from rl4co.utils.trainer import RL4COTrainer\n",
    "from rl4co.utils.ops import batchify, gather_by_index\n",
    "\n",
    "from GLOP.utils import load_model\n",
    "\n",
    "device = \"cuda:0\""
   ]
  },
  {
   "cell_type": "code",
   "execution_count": 2,
   "metadata": {},
   "outputs": [
    {
     "name": "stdout",
     "output_type": "stream",
     "text": [
      "  [*] Loading model from ../../GLOP/pretrained/Reviser-stage2/reviser_10/epoch-299.pt\n",
      "  [*] Loading model from ../../GLOP/pretrained/Reviser-stage2/reviser_20/epoch-299.pt\n"
     ]
    }
   ],
   "source": [
    "# SECTION: Follow GLOP to create the opts\n",
    "class Config:\n",
    "    def __init__(self):\n",
    "        self.problem_size = 100\n",
    "        self.revision_lens = [10, 20]\n",
    "        self.revision_iters = [5, 5]\n",
    "        self.decode_strategy = 'greedy'\n",
    "        self.width = 10\n",
    "        self.no_aug = True\n",
    "        self.seed = 1\n",
    "        self.val_size = 100\n",
    "        self.n_epochs = 10\n",
    "        self.steps_per_epoch = 256\n",
    "        self.checkpoint_path = \"\"\n",
    "        self.max_norm = 1.0\n",
    "        self.units = 48\n",
    "        self.no_clip = False\n",
    "        self.batch_size = 16\n",
    "        self.depth = 12\n",
    "        self.no_prune = False\n",
    "        self.problem_type = \"tsp\"\n",
    "        self.revisers = []\n",
    "\n",
    "# Example of creating an instance of Config\n",
    "opts = Config()\n",
    "\n",
    "# Load GLOP revisers from checkpoints\n",
    "revisers = []\n",
    "for reviser_size in opts.revision_lens:\n",
    "    reviser_path = f'../../GLOP/pretrained/Reviser-stage2/reviser_{reviser_size}/epoch-299.pt'\n",
    "    reviser, _ = load_model(reviser_path, is_local=True)\n",
    "    revisers.append(reviser)\n",
    "for reviser in revisers:\n",
    "    reviser.to(device)\n",
    "    reviser.eval()\n",
    "    reviser.set_decode_type(opts.decode_strategy)    \n",
    "opts.revisers = revisers"
   ]
  },
  {
   "cell_type": "code",
   "execution_count": 6,
   "metadata": {},
   "outputs": [],
   "source": [
    "# SECTION: GLOPOri Policy Checking\n",
    "# Init GLOPOri Policy\n",
    "batch_size = 3\n",
    "n_samples = 10\n",
    "\n",
    "env = CVRPEnv(generator_params={\"num_loc\": 50})\n",
    "\n",
    "policy = GLOPOriPolicy(\n",
    "    env_name=env.name,\n",
    "    n_samples=n_samples,\n",
    "    opts=opts\n",
    ")\n",
    "policy = policy.to(device)\n",
    "td = env.reset(batch_size=[3]).to(device)\n",
    "\n",
    "out = policy(\n",
    "    td=td.clone(),\n",
    "    env=env,\n",
    "    phase=\"test\",\n",
    "    return_actions=True,\n",
    ")"
   ]
  },
  {
   "cell_type": "code",
   "execution_count": 7,
   "metadata": {},
   "outputs": [
    {
     "name": "stderr",
     "output_type": "stream",
     "text": [
      "/home/cbhua/miniconda/envs/rl4co-private/lib/python3.11/site-packages/lightning/pytorch/utilities/parsing.py:199: Attribute 'env' is an instance of `nn.Module` and is already saved during checkpointing. It is recommended to ignore them using `self.save_hyperparameters(ignore=['env'])`.\n",
      "/home/cbhua/miniconda/envs/rl4co-private/lib/python3.11/site-packages/lightning/pytorch/utilities/parsing.py:199: Attribute 'policy' is an instance of `nn.Module` and is already saved during checkpointing. It is recommended to ignore them using `self.save_hyperparameters(ignore=['policy'])`.\n"
     ]
    }
   ],
   "source": [
    "# SECTION: GLOP Model Checking\n",
    "model = GLOPOri(\n",
    "    env=env,\n",
    "    batch_size=16,\n",
    "    opts=opts,\n",
    "    train_data_size=1000,\n",
    "    val_data_size=1000,\n",
    "    test_data_size=1000,\n",
    "    n_samples=n_samples,\n",
    ")\n",
    "model = model.to(device)"
   ]
  },
  {
   "cell_type": "code",
   "execution_count": 8,
   "metadata": {},
   "outputs": [
    {
     "name": "stderr",
     "output_type": "stream",
     "text": [
      "Using 16bit Automatic Mixed Precision (AMP)\n",
      "GPU available: True (cuda), used: True\n",
      "TPU available: False, using: 0 TPU cores\n",
      "IPU available: False, using: 0 IPUs\n",
      "HPU available: False, using: 0 HPUs\n",
      "/home/cbhua/miniconda/envs/rl4co-private/lib/python3.11/site-packages/lightning/pytorch/trainer/connectors/logger_connector/logger_connector.py:75: Starting from v1.9.0, `tensorboardX` has been removed as a dependency of the `lightning.pytorch` package, due to potential conflicts with other packages in the ML ecosystem. For this reason, `logger=True` will use `CSVLogger` as the default logger, unless the `tensorboard` or `tensorboardX` packages are found. Please `pip install lightning[extra]` or one of them to enable TensorBoard support by default\n",
      "/home/cbhua/miniconda/envs/rl4co-private/lib/python3.11/site-packages/lightning/pytorch/utilities/parsing.py:44: attribute 'policy' removed from hparams because it cannot be pickled\n",
      "val_file not set. Generating dataset instead\n",
      "test_file not set. Generating dataset instead\n",
      "LOCAL_RANK: 0 - CUDA_VISIBLE_DEVICES: [0,1]\n",
      "\n",
      "  | Name     | Type           | Params\n",
      "--------------------------------------------\n",
      "0 | env      | CVRPEnv        | 0     \n",
      "1 | policy   | GLOPOriPolicy  | 332 K \n",
      "2 | baseline | SharedBaseline | 0     \n",
      "--------------------------------------------\n",
      "332 K     Trainable params\n",
      "0         Non-trainable params\n",
      "332 K     Total params\n",
      "1.331     Total estimated model params size (MB)\n"
     ]
    },
    {
     "name": "stdout",
     "output_type": "stream",
     "text": [
      "Sanity Checking DataLoader 0:   0%|          | 0/2 [00:00<?, ?it/s]"
     ]
    },
    {
     "name": "stderr",
     "output_type": "stream",
     "text": [
      "/home/cbhua/miniconda/envs/rl4co-private/lib/python3.11/site-packages/lightning/pytorch/trainer/connectors/data_connector.py:441: The 'val_dataloader' does not have many workers which may be a bottleneck. Consider increasing the value of the `num_workers` argument` to `num_workers=31` in the `DataLoader` to improve performance.\n"
     ]
    },
    {
     "name": "stdout",
     "output_type": "stream",
     "text": [
      "                                                                           "
     ]
    },
    {
     "name": "stderr",
     "output_type": "stream",
     "text": [
      "/home/cbhua/miniconda/envs/rl4co-private/lib/python3.11/site-packages/lightning/pytorch/trainer/connectors/data_connector.py:441: The 'train_dataloader' does not have many workers which may be a bottleneck. Consider increasing the value of the `num_workers` argument` to `num_workers=31` in the `DataLoader` to improve performance.\n"
     ]
    },
    {
     "name": "stdout",
     "output_type": "stream",
     "text": [
      "Epoch 0:   8%|▊         | 5/63 [00:10<02:04,  0.46it/s, v_num=1, train/reward=19.70, train/loss=0.575]"
     ]
    },
    {
     "name": "stderr",
     "output_type": "stream",
     "text": [
      "/home/cbhua/miniconda/envs/rl4co-private/lib/python3.11/site-packages/lightning/pytorch/trainer/call.py:54: Detected KeyboardInterrupt, attempting graceful shutdown...\n"
     ]
    }
   ],
   "source": [
    "trainer = RL4COTrainer(\n",
    "    max_epochs=100,\n",
    "    accelerator=\"gpu\",\n",
    "    devices=1,\n",
    "    logger=None,\n",
    ")\n",
    "trainer.fit(model)"
   ]
  }
 ],
 "metadata": {
  "kernelspec": {
   "display_name": "rl4co-private",
   "language": "python",
   "name": "python3"
  },
  "language_info": {
   "codemirror_mode": {
    "name": "ipython",
    "version": 3
   },
   "file_extension": ".py",
   "mimetype": "text/x-python",
   "name": "python",
   "nbconvert_exporter": "python",
   "pygments_lexer": "ipython3",
   "version": "3.11.5"
  }
 },
 "nbformat": 4,
 "nbformat_minor": 2
}
